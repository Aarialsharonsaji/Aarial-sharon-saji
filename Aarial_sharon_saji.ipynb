{
  "nbformat": 4,
  "nbformat_minor": 0,
  "metadata": {
    "colab": {
      "provenance": []
    },
    "kernelspec": {
      "name": "python3",
      "display_name": "Python 3"
    },
    "language_info": {
      "name": "python"
    }
  },
  "cells": [
    {
      "cell_type": "code",
      "source": [
        "'''Write a Python function to find the maximum of three numbers Sample input:\n",
        "34,12,7 Sample output: 34'''\n",
        "def maximum(a,b,c):\n",
        "  if a>b:\n",
        "    print(a)\n",
        "  elif b>a and b>c:\n",
        "    print(b)\n",
        "  else:\n",
        "      print(c)"
      ],
      "metadata": {
        "id": "mDwtAHUwWrBU"
      },
      "execution_count": 30,
      "outputs": []
    },
    {
      "cell_type": "code",
      "source": [
        "maximum(40,50,60)"
      ],
      "metadata": {
        "colab": {
          "base_uri": "https://localhost:8080/"
        },
        "id": "ek2tsFg4YtgU",
        "outputId": "cd82e7bb-8b3d-49e9-cc75-1d2d62c4bcdf"
      },
      "execution_count": 32,
      "outputs": [
        {
          "output_type": "stream",
          "name": "stdout",
          "text": [
            "60\n"
          ]
        }
      ]
    },
    {
      "cell_type": "code",
      "source": [
        "'''Write a Python function that takes a positive integer and returns the sum of\n",
        "the cube of all the positive integers smaller than the specified number.\n",
        "Sample input: 4 Sample output: 36.'''\n",
        "def sum_cube(n):\n",
        "  sum=0\n",
        "  for i in range(1,n):\n",
        "    sum += i**3\n",
        "  return sum"
      ],
      "metadata": {
        "id": "oS7Irvsoc49W"
      },
      "execution_count": 48,
      "outputs": []
    },
    {
      "cell_type": "code",
      "source": [
        "sum_cube(4)"
      ],
      "metadata": {
        "colab": {
          "base_uri": "https://localhost:8080/"
        },
        "id": "A5B1QnPCouwX",
        "outputId": "1ce6b0e4-c1e5-492f-eaad-3b21d6019e28"
      },
      "execution_count": 49,
      "outputs": [
        {
          "output_type": "execute_result",
          "data": {
            "text/plain": [
              "36"
            ]
          },
          "metadata": {},
          "execution_count": 49
        }
      ]
    },
    {
      "cell_type": "code",
      "source": [
        "'''Write a Python function to find the sum of squares of the numbers in a list.\n",
        "Sample input: 2,1,3,1 Sample output: 15 '''\n",
        "def sum_square(numbers):\n",
        "  sum_square = 0\n",
        "  for number in numbers:\n",
        "    sum_square += number**2\n",
        "    return sum_square\n"
      ],
      "metadata": {
        "id": "fc8WK8UOo1v2"
      },
      "execution_count": 52,
      "outputs": []
    },
    {
      "cell_type": "code",
      "source": [
        "numbers=[6,7,8,9]\n",
        "sum_square(numbers)"
      ],
      "metadata": {
        "colab": {
          "base_uri": "https://localhost:8080/"
        },
        "id": "gfORQVXztArI",
        "outputId": "032bb792-8326-44ca-a2ed-a75321725b2c"
      },
      "execution_count": 55,
      "outputs": [
        {
          "output_type": "execute_result",
          "data": {
            "text/plain": [
              "36"
            ]
          },
          "metadata": {},
          "execution_count": 55
        }
      ]
    },
    {
      "cell_type": "code",
      "source": [
        "'''Write a Python program using for loop that will iterate from 1 to 15. For each\n",
        "iteration, check if the current number is odd or even, and display the message\n",
        "to the screen as odd or even. Sample input: 1….15 Sample output: 1-odd 2-\n",
        "even …. 15-odd '''\n",
        "for i in range(1, 16):\n",
        "    if i%2==0:\n",
        "        print(f\"{i} - even\")\n",
        "    else:\n",
        "        print(f\"{i} - odd\")"
      ],
      "metadata": {
        "colab": {
          "base_uri": "https://localhost:8080/"
        },
        "id": "HETYpFWrtGq2",
        "outputId": "e01f0a71-9668-4abc-e3c3-2ba0ce9a45b1"
      },
      "execution_count": 56,
      "outputs": [
        {
          "output_type": "stream",
          "name": "stdout",
          "text": [
            "1 - odd\n",
            "2 - even\n",
            "3 - odd\n",
            "4 - even\n",
            "5 - odd\n",
            "6 - even\n",
            "7 - odd\n",
            "8 - even\n",
            "9 - odd\n",
            "10 - even\n",
            "11 - odd\n",
            "12 - even\n",
            "13 - odd\n",
            "14 - even\n",
            "15 - odd\n"
          ]
        }
      ]
    },
    {
      "cell_type": "code",
      "source": [
        "'''Write a Python program which iterates from 1 to 10. For multiples of 2, print\n",
        "“Fizz” instead of the number and for the multiples of 5, print “Buzz”. For\n",
        "numbers which are multiples of both 2 and 5, print “FizzBuzz”. Sample input:\n",
        "numbers from 1 to 10 Sample output: 1 Fizz 3 Fizz Buzz Fizz 7 Fizz 9\n",
        "FizzBuzz '''\n",
        "for i in range(1,11):\n",
        "  if i%2==0 and i%5==0:\n",
        "    print('FizzBuzz')\n",
        "  elif i%2==0:\n",
        "    print('Fizz')\n",
        "  elif i%5==0:\n",
        "    print('Buzz')\n",
        "  else:\n",
        "    print(i)\n"
      ],
      "metadata": {
        "colab": {
          "base_uri": "https://localhost:8080/"
        },
        "id": "HNN_5xqNtjPH",
        "outputId": "d63c90b8-816c-408f-8de9-c66507d7c5e5"
      },
      "execution_count": 57,
      "outputs": [
        {
          "output_type": "stream",
          "name": "stdout",
          "text": [
            "1\n",
            "Fizz\n",
            "3\n",
            "Fizz\n",
            "Buzz\n",
            "Fizz\n",
            "7\n",
            "Fizz\n",
            "9\n",
            "FizzBuzz\n"
          ]
        }
      ]
    },
    {
      "cell_type": "code",
      "source": [
        "'''Write a Python function called exponent(base,exp) that returns an integer\n",
        "value of base raises to the power of exp. Sample input: Enter the base: 2\n",
        "Enter the exponent: 3 Sample output: 8'''\n",
        "def exponent(base,exp):\n",
        "  return base**exp\n",
        "  base=int(input('Enter the base:'))\n",
        "  exp=int(input('Enter the exponent:'))\n",
        "  print(exponent(base,exp))"
      ],
      "metadata": {
        "id": "KgVWAp6QvpLh"
      },
      "execution_count": 58,
      "outputs": []
    },
    {
      "cell_type": "code",
      "source": [
        "exponent(3,4)"
      ],
      "metadata": {
        "colab": {
          "base_uri": "https://localhost:8080/"
        },
        "id": "siAO9S9AxrNn",
        "outputId": "404771c0-d8c1-40c2-f0b0-7550ef22cda5"
      },
      "execution_count": 63,
      "outputs": [
        {
          "output_type": "execute_result",
          "data": {
            "text/plain": [
              "81"
            ]
          },
          "metadata": {},
          "execution_count": 63
        }
      ]
    },
    {
      "cell_type": "code",
      "source": [
        "'''Write a Python function to calculate the factorial of a number (a nonnegative\n",
        "integer). The function accepts the number as an argument. Sample input: 3\n",
        "Sample output: 6'''\n",
        "\n",
        "def factorial(n):\n",
        "  if n == 0:\n",
        "    return 1\n",
        "  else:\n",
        "    return n * factorial(n-1)"
      ],
      "metadata": {
        "id": "2ncHBCyKxyr4"
      },
      "execution_count": 64,
      "outputs": []
    },
    {
      "cell_type": "code",
      "source": [
        "n = 3\n",
        "print(factorial(n))\n"
      ],
      "metadata": {
        "colab": {
          "base_uri": "https://localhost:8080/"
        },
        "id": "Unp3A0Jg1HJi",
        "outputId": "2c158cbf-7d9a-425b-8f94-b263c791ac59"
      },
      "execution_count": 65,
      "outputs": [
        {
          "output_type": "stream",
          "name": "stdout",
          "text": [
            "6\n"
          ]
        }
      ]
    },
    {
      "cell_type": "code",
      "source": [],
      "metadata": {
        "id": "HpAH-O4Y1c9I"
      },
      "execution_count": null,
      "outputs": []
    }
  ]
}